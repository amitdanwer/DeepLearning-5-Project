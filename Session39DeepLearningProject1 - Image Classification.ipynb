{
 "cells": [
  {
   "cell_type": "markdown",
   "metadata": {
    "collapsed": true
   },
   "source": [
    "# Image Classification\n",
    "In this project, you'll classify images from the [CIFAR-10 dataset](https://www.cs.toronto.edu/~kriz/cifar.html).  The dataset consists of airplanes, dogs, cats, and other objects. You'll preprocess the images, then train a convolutional neural network on all the samples. The images need to be normalized and the labels need to be one-hot encoded.  You'll get to apply what you learned and build a convolutional, max pooling, dropout, and fully connected layers.  At the end, you'll get to see your neural network's predictions on the sample images.\n",
    "## Get the Data\n",
    "Run the following cell to download the [CIFAR-10 dataset for python](https://www.cs.toronto.edu/~kriz/cifar-10-python.tar.gz).\n",
    "\n",
    "## Data\n",
    "CIFAR-10  is an established computer-vision dataset used for object recognition. It is a subset of the 80 million tiny images dataset and consists of 60,000 32x32 color images containing one of 10 object classes, with 6000 images per class. It was collected by Alex Krizhevsky, Vinod Nair, and Geoffrey Hinton."
   ]
  },
  {
   "cell_type": "markdown",
   "metadata": {},
   "source": [
    "Let's get the data by running the following function"
   ]
  },
  {
   "cell_type": "code",
   "execution_count": 1,
   "metadata": {},
   "outputs": [
    {
     "name": "stderr",
     "output_type": "stream",
     "text": [
      "CIFAR-10 Dataset: 171MB [00:12, 14.1MB/s]                              \n"
     ]
    }
   ],
   "source": [
    "from urllib.request import urlretrieve\n",
    "from os.path import isfile, isdir\n",
    "from tqdm import tqdm\n",
    "import tarfile\n",
    "\n",
    "cifar10_dataset_folder_path = 'cifar-10-batches-py'\n",
    "\n",
    "class DLProgress(tqdm):\n",
    "    last_block = 0\n",
    "\n",
    "    def hook(self, block_num=1, block_size=1, total_size=None):\n",
    "        self.total = total_size\n",
    "        self.update((block_num - self.last_block) * block_size)\n",
    "        self.last_block = block_num\n",
    "\n",
    "if not isfile('cifar-10-python.tar.gz'):\n",
    "    with DLProgress(unit='B', unit_scale=True, miniters=1, desc='CIFAR-10 Dataset') as pbar:\n",
    "        urlretrieve(\n",
    "            'https://www.cs.toronto.edu/~kriz/cifar-10-python.tar.gz',\n",
    "            'cifar-10-python.tar.gz',\n",
    "            pbar.hook)\n",
    "\n",
    "if not isdir(cifar10_dataset_folder_path):\n",
    "    with tarfile.open('cifar-10-python.tar.gz') as tar:\n",
    "        tar.extractall()\n",
    "        tar.close()\n"
   ]
  },
  {
   "cell_type": "markdown",
   "metadata": {},
   "source": [
    "## Explore the Data\n",
    "The dataset is broken into batches to prevent your machine from running out of memory.  The CIFAR-10 dataset consists of 5 batches, named `data_batch_1`, `data_batch_2`, etc.. Each batch contains the labels and images that are one of the following:\n",
    "* airplane\n",
    "* automobile\n",
    "* bird\n",
    "* cat\n",
    "* deer\n",
    "* dog\n",
    "* frog\n",
    "* horse\n",
    "* ship\n",
    "* truck\n",
    "\n",
    "Understanding a dataset is part of making predictions on the data.  Play around with the code cell below by changing the `batch_id` and `sample_id`. The `batch_id` is the id for a batch (1-5). The `sample_id` is the id for a image and label pair in the batch.\n",
    "\n",
    "Ask yourself \"What are all possible labels?\", \"What is the range of values for the image data?\", \"Are the labels in order or random?\".  Answers to questions like these will help you preprocess the data and end up with better predictions."
   ]
  },
  {
   "cell_type": "markdown",
   "metadata": {},
   "source": [
    "## The following are some helper functions students can use in their code"
   ]
  },
  {
   "cell_type": "code",
   "execution_count": 2,
   "metadata": {
    "collapsed": true
   },
   "outputs": [],
   "source": [
    "import pickle\n",
    "import numpy as np\n",
    "import matplotlib.pyplot as plt\n",
    "from sklearn.preprocessing import LabelBinarizer\n",
    "\n",
    "\n",
    "def _load_label_names():\n",
    "    \"\"\"\n",
    "    Load the label names from file\n",
    "    \"\"\"\n",
    "    return ['airplane', 'automobile', 'bird', 'cat', 'deer', 'dog', 'frog', 'horse', 'ship', 'truck']\n",
    "\n",
    "\n",
    "def load_cfar10_batch(cifar10_dataset_folder_path, batch_id):\n",
    "    \"\"\"\n",
    "    Load a batch of the dataset\n",
    "    \"\"\"\n",
    "    with open(cifar10_dataset_folder_path + '/data_batch_' + str(batch_id), mode='rb') as file:\n",
    "        batch = pickle.load(file, encoding='latin1')\n",
    "\n",
    "    # total_features*RGB*H*W\n",
    "    features = batch['data'].reshape((len(batch['data']), 3, 32, 32)).transpose(0, 2, 3, 1) #(len, 32, 32, 3)\n",
    "    labels = batch['labels']\n",
    "    \n",
    "#     print(batch['data'])\n",
    "#     print(\"-\"*80)\n",
    "#     print(batch['data'].reshape((len(batch['data']), 3, 32, 32)))\n",
    "#     print(\"-\"*80)\n",
    "#     print(features)\n",
    "#     print(\"-\"*80)\n",
    "#     print(labels)\n",
    "\n",
    "    return features, labels\n",
    "\n",
    "\n",
    "def display_stats(cifar10_dataset_folder_path, batch_id, sample_id):\n",
    "    \"\"\"\n",
    "    Display Stats of the the dataset\n",
    "    \"\"\"\n",
    "    batch_ids = list(range(1, 6))\n",
    "\n",
    "    if batch_id not in batch_ids:\n",
    "        print('Batch Id out of Range. Possible Batch Ids: {}'.format(batch_ids))\n",
    "        return None\n",
    "\n",
    "    features, labels = load_cfar10_batch(cifar10_dataset_folder_path, batch_id)\n",
    "\n",
    "    if not (0 <= sample_id < len(features)):\n",
    "        print('{} samples in batch {}.  {} is out of range.'.format(len(features), batch_id, sample_id))\n",
    "        return None\n",
    "\n",
    "    print('\\nStats of batch {}:'.format(batch_id))\n",
    "    print('Samples: {}'.format(len(features)))\n",
    "    print('Label Counts: {}'.format(dict(zip(*np.unique(labels, return_counts=True)))))\n",
    "    print('First 20 Labels: {}'.format(labels[:20]))\n",
    "\n",
    "    sample_image = features[sample_id]\n",
    "    sample_label = labels[sample_id]\n",
    "    label_names = _load_label_names()\n",
    "\n",
    "    print('\\nExample of Image {}:'.format(sample_id))\n",
    "    print('Image - Min Value: {} Max Value: {}'.format(sample_image.min(), sample_image.max()))\n",
    "    print('Image - Shape: {}'.format(sample_image.shape))\n",
    "    print('Label - Label Id: {} Name: {}'.format(sample_label, label_names[sample_label]))\n",
    "    plt.axis('off')\n",
    "    plt.imshow(sample_image)\n",
    "\n",
    "\n",
    "def _preprocess_and_save(normalize, one_hot_encode, features, labels, filename):\n",
    "    \"\"\"\n",
    "    Preprocess data and save it to file\n",
    "    \"\"\"\n",
    "    features = normalize(features)\n",
    "    labels = one_hot_encode(labels)\n",
    "\n",
    "    pickle.dump((features, labels), open(filename, 'wb'))\n",
    "\n",
    "\n",
    "def preprocess_and_save_data(cifar10_dataset_folder_path, normalize, one_hot_encode):\n",
    "    \"\"\"\n",
    "    Preprocess Training and Validation Data\n",
    "    \"\"\"\n",
    "    n_batches = 5\n",
    "    valid_features = []\n",
    "    valid_labels = []\n",
    "\n",
    "    for batch_i in range(1, n_batches + 1):\n",
    "        features, labels = load_cfar10_batch(cifar10_dataset_folder_path, batch_i)\n",
    "        validation_count = int(len(features) * 0.1) #10%\n",
    "\n",
    "        # Prprocess and save a batch of training data\n",
    "        _preprocess_and_save(\n",
    "            normalize,\n",
    "            one_hot_encode,\n",
    "            features[:-validation_count],\n",
    "            labels[:-validation_count],\n",
    "            'preprocess_batch_' + str(batch_i) + '.p')\n",
    "\n",
    "        # Use a portion of training batch for validation\n",
    "        valid_features.extend(features[-validation_count:])\n",
    "        valid_labels.extend(labels[-validation_count:])\n",
    "\n",
    "    # Preprocess and Save all validation data\n",
    "    _preprocess_and_save(\n",
    "        normalize,\n",
    "        one_hot_encode,\n",
    "        np.array(valid_features),\n",
    "        np.array(valid_labels),\n",
    "        'preprocess_validation.p')\n",
    "\n",
    "    with open(cifar10_dataset_folder_path + '/test_batch', mode='rb') as file:\n",
    "        batch = pickle.load(file, encoding='latin1')\n",
    "\n",
    "    # load the test data\n",
    "    test_features = batch['data'].reshape((len(batch['data']), 3, 32, 32)).transpose(0, 2, 3, 1)\n",
    "    test_labels = batch['labels']\n",
    "\n",
    "    # Preprocess and Save all test data\n",
    "    _preprocess_and_save(\n",
    "        normalize,\n",
    "        one_hot_encode,\n",
    "        np.array(test_features),\n",
    "        np.array(test_labels),\n",
    "        'preprocess_testing.p')\n",
    "\n",
    "\n",
    "def batch_features_labels(features, labels, batch_size):\n",
    "    \"\"\"\n",
    "    Split features and labels into batches\n",
    "    \"\"\"\n",
    "    for start in range(0, len(features), batch_size):\n",
    "        end = min(start + batch_size, len(features))\n",
    "        yield features[start:end], labels[start:end]\n",
    "\n",
    "\n",
    "def load_preprocess_training_batch(batch_id, batch_size):\n",
    "    \"\"\"\n",
    "    Load the Preprocessed Training data and return them in batches of <batch_size> or less\n",
    "    \"\"\"\n",
    "    filename = 'preprocess_batch_' + str(batch_id) + '.p'\n",
    "    features, labels = pickle.load(open(filename, mode='rb'))\n",
    "\n",
    "    # Return the training data in batches of size <batch_size> or less\n",
    "    return batch_features_labels(features, labels, batch_size)\n",
    "\n",
    "\n",
    "def display_image_predictions(features, labels, predictions):\n",
    "    n_classes = 10\n",
    "    label_names = _load_label_names()\n",
    "    label_binarizer = LabelBinarizer()\n",
    "    label_binarizer.fit(range(n_classes))\n",
    "    label_ids = label_binarizer.inverse_transform(np.array(labels))\n",
    "\n",
    "    fig, axies = plt.subplots(nrows=4, ncols=2)\n",
    "    fig.tight_layout()\n",
    "    fig.suptitle('Softmax Predictions', fontsize=20, y=1.1)\n",
    "\n",
    "    n_predictions = 5\n",
    "    margin = 0.05\n",
    "    ind = np.arange(n_predictions)\n",
    "    width = (1. - 2. * margin) / n_predictions\n",
    "\n",
    "    for image_i, (feature, label_id, pred_indicies, pred_values) in enumerate(zip(features, label_ids, predictions.indices, predictions.values)):\n",
    "        pred_names = [label_names[pred_i] for pred_i in pred_indicies]\n",
    "        correct_name = label_names[label_id]\n",
    "\n",
    "        axies[image_i][0].imshow(feature*255)\n",
    "        axies[image_i][0].set_title(correct_name)\n",
    "        axies[image_i][0].set_axis_off()\n",
    "\n",
    "        axies[image_i][1].barh(ind + margin, pred_values[::-1], width)\n",
    "        axies[image_i][1].set_yticks(ind + margin)\n",
    "        axies[image_i][1].set_yticklabels(pred_names[::-1])\n",
    "        axies[image_i][1].set_xticks([0, 0.5, 1.0])\n"
   ]
  },
  {
   "cell_type": "code",
   "execution_count": 3,
   "metadata": {
    "scrolled": false
   },
   "outputs": [
    {
     "name": "stdout",
     "output_type": "stream",
     "text": [
      "\n",
      "Stats of batch 3:\n",
      "Samples: 10000\n",
      "Label Counts: {0: 994, 1: 1042, 2: 965, 3: 997, 4: 990, 5: 1029, 6: 978, 7: 1015, 8: 961, 9: 1029}\n",
      "First 20 Labels: [8, 5, 0, 6, 9, 2, 8, 3, 6, 2, 7, 4, 6, 9, 0, 0, 7, 3, 7, 2]\n",
      "\n",
      "Example of Image 5:\n",
      "Image - Min Value: 9 Max Value: 255\n",
      "Image - Shape: (32, 32, 3)\n",
      "Label - Label Id: 2 Name: bird\n"
     ]
    },
    {
     "data": {
      "image/png": "[encoded data removed]",
      "text/plain": [
       "<matplotlib.figure.Figure at 0x7f626809b518>"
      ]
     },
     "metadata": {
      "image/png": {
       "height": 250,
       "width": 253
      }
     },
     "output_type": "display_data"
    }
   ],
   "source": [
    "%matplotlib inline\n",
    "%config InlineBackend.figure_format = 'retina'\n",
    "\n",
    "import numpy as np\n",
    "\n",
    "# Explore the dataset\n",
    "batch_id = 3 #1-5\n",
    "sample_id = 5 #1-10,000\n",
    "display_stats(cifar10_dataset_folder_path, batch_id, sample_id)"
   ]
  },
  {
   "cell_type": "markdown",
   "metadata": {},
   "source": [
    "# Solution "
   ]
  },
  {
   "cell_type": "markdown",
   "metadata": {},
   "source": [
    "## Implement Preprocess Functions\n",
    "### Normalize"
   ]
  },
  {
   "cell_type": "code",
   "execution_count": 4,
   "metadata": {
    "collapsed": true
   },
   "outputs": [],
   "source": [
    "import numpy as np\n",
    "def normalize(x):\n",
    "    \"\"\"\n",
    "    Normalize a list of sample image data in the range of 0 to 1\n",
    "    : x: List of image data.  The image shape is (32, 32, 3)\n",
    "    : return: Numpy array of normalize data\n",
    "    \"\"\"\n",
    "    x = np.array(x)\n",
    "    x_max = np.max(x)\n",
    "    x_min = np.min(x)\n",
    "    output = (x - x_min)/(x_max - x_min)\n",
    "    return output\n"
   ]
  },
  {
   "cell_type": "markdown",
   "metadata": {},
   "source": [
    "### One-hot encode\n"
   ]
  },
  {
   "cell_type": "code",
   "execution_count": 5,
   "metadata": {
    "collapsed": true
   },
   "outputs": [],
   "source": [
    "from sklearn import preprocessing\n",
    "lb = preprocessing.LabelBinarizer()\n",
    "lb.fit(range(10))\n",
    "\n",
    "\n",
    "def one_hot_encode(x):\n",
    "    \"\"\"\n",
    "    One hot encode a list of sample labels. Return a one-hot encoded vector for each label.\n",
    "    : x: List of sample Labels\n",
    "    : return: Numpy array of one-hot encoded labels\n",
    "    \"\"\"\n",
    "    #print(lb.transform(x))\n",
    "    return lb.transform(x) #0-9\n"
   ]
  },
  {
   "cell_type": "markdown",
   "metadata": {},
   "source": [
    "## Preprocess all the data and save it\n"
   ]
  },
  {
   "cell_type": "code",
   "execution_count": 6,
   "metadata": {
    "ExecuteTime": {
     "end_time": "2018-12-21T06:39:13.572241Z",
     "start_time": "2018-12-21T06:39:13.435625Z"
    }
   },
   "outputs": [],
   "source": [
    "preprocess_and_save_data(cifar10_dataset_folder_path, normalize, one_hot_encode)"
   ]
  },
  {
   "cell_type": "code",
   "execution_count": 7,
   "metadata": {
    "collapsed": true
   },
   "outputs": [],
   "source": [
    "valid_features, valid_labels = pickle.load(open('preprocess_validation.p', mode='rb'))"
   ]
  },
  {
   "cell_type": "code",
   "execution_count": 8,
   "metadata": {},
   "outputs": [
    {
     "data": {
      "text/plain": [
       "(array([[[0.54901961, 0.49019608, 0.45098039],\n",
       "         [0.57254902, 0.50980392, 0.47843137],\n",
       "         [0.56078431, 0.49803922, 0.47843137],\n",
       "         ...,\n",
       "         [0.66666667, 0.56862745, 0.51372549],\n",
       "         [0.69019608, 0.58823529, 0.5254902 ],\n",
       "         [0.66666667, 0.57647059, 0.52156863]],\n",
       " \n",
       "        [[0.4745098 , 0.42352941, 0.50588235],\n",
       "         [0.50980392, 0.4627451 , 0.54509804],\n",
       "         [0.5254902 , 0.4745098 , 0.56078431],\n",
       "         ...,\n",
       "         [0.63921569, 0.55294118, 0.61568627],\n",
       "         [0.66666667, 0.57254902, 0.63137255],\n",
       "         [0.66666667, 0.58039216, 0.63137255]],\n",
       " \n",
       "        [[0.59607843, 0.54509804, 0.68235294],\n",
       "         [0.61568627, 0.56862745, 0.70196078],\n",
       "         [0.60784314, 0.56078431, 0.68627451],\n",
       "         ...,\n",
       "         [0.69411765, 0.60392157, 0.75686275],\n",
       "         [0.70980392, 0.61176471, 0.76078431],\n",
       "         [0.71764706, 0.62745098, 0.76078431]],\n",
       " \n",
       "        ...,\n",
       " \n",
       "        [[0.49019608, 0.43137255, 0.4       ],\n",
       "         [0.50588235, 0.43921569, 0.40392157],\n",
       "         [0.29803922, 0.2627451 , 0.18431373],\n",
       "         ...,\n",
       "         [0.65882353, 0.5372549 , 0.47058824],\n",
       "         [0.61960784, 0.49411765, 0.40392157],\n",
       "         [0.57254902, 0.45490196, 0.34117647]],\n",
       " \n",
       "        [[0.33333333, 0.30196078, 0.2745098 ],\n",
       "         [0.36862745, 0.31764706, 0.27843137],\n",
       "         [0.29019608, 0.25490196, 0.17647059],\n",
       "         ...,\n",
       "         [0.63529412, 0.51764706, 0.41568627],\n",
       "         [0.65098039, 0.5254902 , 0.39215686],\n",
       "         [0.61960784, 0.50196078, 0.36078431]],\n",
       " \n",
       "        [[0.49019608, 0.43921569, 0.43529412],\n",
       "         [0.50980392, 0.44313725, 0.43529412],\n",
       "         [0.41176471, 0.35686275, 0.29411765],\n",
       "         ...,\n",
       "         [0.51764706, 0.41568627, 0.30588235],\n",
       "         [0.50980392, 0.39607843, 0.25098039],\n",
       "         [0.55686275, 0.45098039, 0.30588235]]]),\n",
       " array([0, 0, 0, 0, 1, 0, 0, 0, 0, 0]))"
      ]
     },
     "execution_count": 8,
     "metadata": {},
     "output_type": "execute_result"
    }
   ],
   "source": [
    "valid_features[0], valid_labels[0]"
   ]
  },
  {
   "cell_type": "markdown",
   "metadata": {},
   "source": [
    "## Build the network\n",
    "\n",
    "### Input\n"
   ]
  },
  {
   "cell_type": "code",
   "execution_count": 9,
   "metadata": {},
   "outputs": [
    {
     "name": "stderr",
     "output_type": "stream",
     "text": [
      "/usr/local/anaconda/python3/lib/python3.6/site-packages/h5py/__init__.py:34: FutureWarning: Conversion of the second argument of issubdtype from `float` to `np.floating` is deprecated. In future, it will be treated as `np.float64 == np.dtype(float).type`.\n",
      "  from ._conv import register_converters as _register_converters\n"
     ]
    }
   ],
   "source": [
    "import tensorflow as tf\n",
    "\n",
    "def neural_net_image_input(image_shape):\n",
    "    \"\"\"\n",
    "    Return a Tensor for a bach of image input\n",
    "    : image_shape: Shape of the images\n",
    "    : return: Tensor for image input.\n",
    "    \"\"\"\n",
    "    return tf.placeholder(tf.float32, shape = (None, image_shape[0], image_shape[1], image_shape[2]), name = 'x')\n",
    "\n",
    "\n",
    "def neural_net_label_input(n_classes):\n",
    "    \"\"\"\n",
    "    Return a Tensor for a batch of label input\n",
    "    : n_classes: Number of classes\n",
    "    : return: Tensor for label input.\n",
    "    \"\"\"\n",
    "    return tf.placeholder(tf.float32, shape = (None, n_classes), name = 'y')\n",
    "\n",
    "\n",
    "def neural_net_keep_prob_input():\n",
    "    \"\"\"\n",
    "    Return a Tensor for keep probability\n",
    "    : return: Tensor for keep probability.\n",
    "    \"\"\"\n",
    "    return tf.placeholder(tf.float32, shape = (None), name = 'keep_prob')\n",
    "\n",
    "\n",
    "tf.reset_default_graph()\n"
   ]
  },
  {
   "cell_type": "markdown",
   "metadata": {},
   "source": [
    "### Convolution and Max Pooling Layer\n"
   ]
  },
  {
   "cell_type": "code",
   "execution_count": 10,
   "metadata": {
    "collapsed": true
   },
   "outputs": [],
   "source": [
    "def conv2d_maxpool(x_tensor, conv_num_outputs, conv_ksize, conv_strides, pool_ksize, pool_strides):\n",
    "    \"\"\"\n",
    "    Apply convolution then max pooling to x_tensor\n",
    "    :param x_tensor: TensorFlow Tensor\n",
    "    :param conv_num_outputs: Number of outputs for the convolutional layer\n",
    "    :param conv_strides: Stride 2-D Tuple for convolution\n",
    "    :param pool_ksize: kernal size 2-D Tuple for pool\n",
    "    :param pool_strides: Stride 2-D Tuple for pool\n",
    "    : return: A tensor that represents convolution and max pooling of x_tensor\n",
    "    \"\"\"\n",
    "    shape_of_x_tensor = x_tensor.get_shape().as_list()\n",
    "    F_W = tf.Variable(tf.truncated_normal([conv_ksize[0] ,conv_ksize[1] ,shape_of_x_tensor[-1] ,conv_num_outputs] \n",
    "                                          ,dtype=tf.float32, stddev=0.2))\n",
    "    F_b = tf.Variable(tf.zeros([conv_num_outputs]  ,dtype=tf.float32))\n",
    "    \n",
    "    strides_conv = [1, conv_strides[0], conv_strides[1], 1]\n",
    "    padding = 'SAME'\n",
    "    \n",
    "    output = tf.nn.conv2d(x_tensor, F_W, strides_conv, padding)\n",
    "    output = tf.nn.bias_add(output, F_b)\n",
    "    \n",
    "    output = tf.nn.relu(output)\n",
    "    \n",
    "\n",
    "    ksize_maxpool = [1, pool_ksize[0], pool_ksize[1], 1]\n",
    "    strides_maxpool = [1, pool_strides[0], pool_strides[1], 1]\n",
    "    output = tf.nn.max_pool(output, ksize_maxpool, strides_maxpool, padding)\n",
    "    \n",
    "    return output \n",
    "\n",
    "\n",
    "#https://stackoverflow.com/questions/34642595/tensorflow-strides-argument"
   ]
  },
  {
   "cell_type": "markdown",
   "metadata": {},
   "source": [
    "### Flatten Layer\n"
   ]
  },
  {
   "cell_type": "code",
   "execution_count": 11,
   "metadata": {
    "collapsed": true
   },
   "outputs": [],
   "source": [
    "def flatten(x_tensor):\n",
    "    \"\"\"\n",
    "    Flatten x_tensor to (Batch Size, Flattened Image Size)\n",
    "    : x_tensor: A tensor of size (Batch Size, ...), where ... are the image dimensions.\n",
    "    : return: A tensor of size (Batch Size, Flattened Image Size).\n",
    "    \"\"\"\n",
    "    # TODO: Implement Function\n",
    "    shape = x_tensor.get_shape().as_list()\n",
    "    flat_dim = shape[1]*shape[2]*shape[3]\n",
    "    output = tf.reshape(x_tensor, [-1, flat_dim])\n",
    "    return output\n"
   ]
  },
  {
   "cell_type": "markdown",
   "metadata": {},
   "source": [
    "### Fully-Connected Layer\n"
   ]
  },
  {
   "cell_type": "code",
   "execution_count": 12,
   "metadata": {
    "collapsed": true
   },
   "outputs": [],
   "source": [
    "def fully_conn(x_tensor, num_outputs):\n",
    "    \"\"\"\n",
    "    Apply a fully connected layer to x_tensor using weight and bias\n",
    "    : x_tensor: A 2-D tensor where the first dimension is batch size.\n",
    "    : num_outputs: The number of output that the new tensor should be.\n",
    "    : return: A 2-D tensor where the second dimension is num_outputs.\n",
    "    \"\"\"\n",
    "    # TODO: Implement Function\n",
    "    shape = x_tensor.get_shape().as_list()\n",
    "    weights= tf.Variable(tf.truncated_normal([shape[1], num_outputs] ,dtype=tf.float32, stddev=0.2))\n",
    "    biases = tf.Variable(tf.zeros([num_outputs]  ,dtype=tf.float32))\n",
    "    \n",
    "    out = tf.add(tf.matmul(x_tensor, weights), biases)\n",
    "    out = tf.nn.relu(out)\n",
    "    return out\n"
   ]
  },
  {
   "cell_type": "markdown",
   "metadata": {},
   "source": [
    "### Output Layer\n"
   ]
  },
  {
   "cell_type": "code",
   "execution_count": 13,
   "metadata": {
    "collapsed": true
   },
   "outputs": [],
   "source": [
    "def output(x_tensor, num_outputs):\n",
    "    \"\"\"\n",
    "    Apply a output layer to x_tensor using weight and bias\n",
    "    : x_tensor: A 2-D tensor where the first dimension is batch size.\n",
    "    : num_outputs: The number of output that the new tensor should be.\n",
    "    : return: A 2-D tensor where the second dimension is num_outputs.\n",
    "    \"\"\"\n",
    "    shape = x_tensor.get_shape().as_list()\n",
    "    weights= tf.Variable(tf.truncated_normal([shape[1], num_outputs] ,dtype=tf.float32, stddev=0.2))\n",
    "    biases = tf.Variable(tf.zeros([num_outputs]  ,dtype=tf.float32))\n",
    "    out = tf.add(tf.matmul(x_tensor, weights), biases)\n",
    "    return out\n"
   ]
  },
  {
   "cell_type": "markdown",
   "metadata": {},
   "source": [
    "### Create Convolutional Model\n"
   ]
  },
  {
   "cell_type": "code",
   "execution_count": 14,
   "metadata": {},
   "outputs": [
    {
     "name": "stdout",
     "output_type": "stream",
     "text": [
      "WARNING:tensorflow:From <ipython-input-14-38b91a2b7acc>:49: softmax_cross_entropy_with_logits (from tensorflow.python.ops.nn_ops) is deprecated and will be removed in a future version.\n",
      "Instructions for updating:\n",
      "\n",
      "Future major versions of TensorFlow will allow gradients to flow\n",
      "into the labels input on backprop by default.\n",
      "\n",
      "See tf.nn.softmax_cross_entropy_with_logits_v2.\n",
      "\n"
     ]
    }
   ],
   "source": [
    "def conv_net(x, keep_prob):\n",
    "    \"\"\"\n",
    "    Create a convolutional neural network model\n",
    "    : x: Placeholder tensor that holds image data.\n",
    "    : keep_prob: Placeholder tensor that hold dropout keep probability.\n",
    "    : return: Tensor that represents logits\n",
    "    \"\"\"\n",
    "\n",
    "    out = conv2d_maxpool(x, conv_num_outputs = 16, conv_ksize = (3,3), conv_strides = (1,1), pool_ksize=(2,2), pool_strides=(2,2))\n",
    "    out = conv2d_maxpool(out, conv_num_outputs = 32, conv_ksize = (3,3), conv_strides = (1,1), pool_ksize=(2,2), pool_strides=(2,2))\n",
    "    out = conv2d_maxpool(out, conv_num_outputs = 64, conv_ksize = (3,3), conv_strides = (1,1), pool_ksize=(2,2), pool_strides=(2,2))\n",
    "\n",
    "    # Function Definition from Above:\n",
    "    out = flatten(out)\n",
    "    \n",
    "    \n",
    "\n",
    "    out = fully_conn(out, num_outputs = 64)\n",
    "    out = tf.nn.dropout(out, keep_prob)\n",
    "    out = fully_conn(out, num_outputs = 32)\n",
    "    out = tf.nn.dropout(out, keep_prob)\n",
    "    out = fully_conn(out, num_outputs = 16)\n",
    "    #    Set this to the number of classes\n",
    "    # Function Definition from Above:\n",
    "    out = output(out, num_outputs = 10)\n",
    "\n",
    "    return out\n",
    "\n",
    "\n",
    "##############################\n",
    "## Build the Neural Network ##\n",
    "##############################\n",
    "\n",
    "# Remove previous weights, bias, inputs, etc..\n",
    "tf.reset_default_graph()\n",
    "\n",
    "# Inputs\n",
    "x = neural_net_image_input((32, 32, 3))\n",
    "y = neural_net_label_input(10)\n",
    "keep_prob = neural_net_keep_prob_input()\n",
    "\n",
    "# Model\n",
    "logits = conv_net(x, keep_prob)\n",
    "\n",
    "# Name logits Tensor, so that is can be loaded from disk after training\n",
    "logits = tf.identity(logits, name='logits')\n",
    "\n",
    "# Loss and Optimizer\n",
    "cost = tf.reduce_mean(tf.nn.softmax_cross_entropy_with_logits(logits=logits, labels=y))\n",
    "optimizer = tf.train.AdamOptimizer().minimize(cost)\n",
    "\n",
    "# Accuracy\n",
    "correct_pred = tf.equal(tf.argmax(logits, 1), tf.argmax(y, 1))\n",
    "accuracy = tf.reduce_mean(tf.cast(correct_pred, tf.float32), name='accuracy')\n",
    "\n"
   ]
  },
  {
   "cell_type": "markdown",
   "metadata": {},
   "source": [
    "## Train the Neural Network\n",
    "### Single Optimization\n"
   ]
  },
  {
   "cell_type": "code",
   "execution_count": 15,
   "metadata": {
    "collapsed": true
   },
   "outputs": [],
   "source": [
    "def train_neural_network(session, optimizer, keep_probability, feature_batch, label_batch):\n",
    "    \"\"\"\n",
    "    Optimize the session on a batch of images and labels\n",
    "    : session: Current TensorFlow session\n",
    "    : optimizer: TensorFlow optimizer function\n",
    "    : keep_probability: keep probability\n",
    "    : feature_batch: Batch of Numpy image data\n",
    "    : label_batch: Batch of Numpy label data\n",
    "    \"\"\"\n",
    "    session.run(optimizer, feed_dict={x:feature_batch, y:label_batch,keep_prob:keep_probability})\n"
   ]
  },
  {
   "cell_type": "markdown",
   "metadata": {},
   "source": [
    "### Show Stats\n"
   ]
  },
  {
   "cell_type": "code",
   "execution_count": 16,
   "metadata": {
    "collapsed": true
   },
   "outputs": [],
   "source": [
    "def print_stats(session, feature_batch, label_batch, cost, accuracy):\n",
    "    \"\"\"\n",
    "    Print information about loss and validation accuracy\n",
    "    : session: Current TensorFlow session\n",
    "    : feature_batch: Batch of Numpy image data\n",
    "    : label_batch: Batch of Numpy label data\n",
    "    : cost: TensorFlow cost function\n",
    "    : accuracy: TensorFlow accuracy function\n",
    "    \"\"\"\n",
    "    valid_acc = sess.run(accuracy, feed_dict={\n",
    "                x: valid_features,\n",
    "                y: valid_labels,\n",
    "                keep_prob: 1.})\n",
    "    train_acc = sess.run(accuracy, feed_dict={\n",
    "                x: feature_batch,\n",
    "                y: label_batch,\n",
    "                keep_prob: 1.})\n",
    "    train_cost = sess.run(cost, feed_dict={\n",
    "                x: feature_batch,\n",
    "                y: label_batch,\n",
    "                keep_prob: 1.})\n",
    "    print('Cost {::>8.5f}, Accuracy on Training {:.4f} -'\n",
    "                  'Validation Accuracy: {:.4f}'.format(\n",
    "                train_cost,\n",
    "                train_acc,\n",
    "                valid_acc))"
   ]
  },
  {
   "cell_type": "markdown",
   "metadata": {},
   "source": [
    "### Hyperparameters\n"
   ]
  },
  {
   "cell_type": "code",
   "execution_count": 17,
   "metadata": {
    "collapsed": true
   },
   "outputs": [],
   "source": [
    "epochs = 50\n",
    "batch_size = 256\n",
    "keep_probability = 0.6"
   ]
  },
  {
   "cell_type": "markdown",
   "metadata": {},
   "source": [
    "### Train on a Single CIFAR-10 Batch\n"
   ]
  },
  {
   "cell_type": "code",
   "execution_count": 18,
   "metadata": {},
   "outputs": [
    {
     "name": "stdout",
     "output_type": "stream",
     "text": [
      "Checking the Training on a Single Batch...\n",
      "Epoch  1, CIFAR-10 Batch 1:  Cost :2.27491, Accuracy on Training 0.2000 -Validation Accuracy: 0.1648\n",
      "Epoch  2, CIFAR-10 Batch 1:  Cost :2.24383, Accuracy on Training 0.2250 -Validation Accuracy: 0.1872\n",
      "Epoch  3, CIFAR-10 Batch 1:  Cost :2.15063, Accuracy on Training 0.3500 -Validation Accuracy: 0.2314\n",
      "Epoch  4, CIFAR-10 Batch 1:  Cost :1.99705, Accuracy on Training 0.3500 -Validation Accuracy: 0.2508\n",
      "Epoch  5, CIFAR-10 Batch 1:  Cost :1.92219, Accuracy on Training 0.3250 -Validation Accuracy: 0.2910\n",
      "Epoch  6, CIFAR-10 Batch 1:  Cost :1.87706, Accuracy on Training 0.3500 -Validation Accuracy: 0.2934\n",
      "Epoch  7, CIFAR-10 Batch 1:  Cost :1.79448, Accuracy on Training 0.3750 -Validation Accuracy: 0.3090\n",
      "Epoch  8, CIFAR-10 Batch 1:  Cost :1.79433, Accuracy on Training 0.4500 -Validation Accuracy: 0.3160\n",
      "Epoch  9, CIFAR-10 Batch 1:  Cost :1.70788, Accuracy on Training 0.5000 -Validation Accuracy: 0.3216\n",
      "Epoch 10, CIFAR-10 Batch 1:  Cost :1.64427, Accuracy on Training 0.4250 -Validation Accuracy: 0.3444\n",
      "Epoch 11, CIFAR-10 Batch 1:  Cost :1.61971, Accuracy on Training 0.4750 -Validation Accuracy: 0.3734\n",
      "Epoch 12, CIFAR-10 Batch 1:  Cost :1.64796, Accuracy on Training 0.4750 -Validation Accuracy: 0.3484\n",
      "Epoch 13, CIFAR-10 Batch 1:  Cost :1.58148, Accuracy on Training 0.4000 -Validation Accuracy: 0.3616\n",
      "Epoch 14, CIFAR-10 Batch 1:  Cost :1.51732, Accuracy on Training 0.4250 -Validation Accuracy: 0.3764\n",
      "Epoch 15, CIFAR-10 Batch 1:  Cost :1.41844, Accuracy on Training 0.5750 -Validation Accuracy: 0.3970\n",
      "Epoch 16, CIFAR-10 Batch 1:  Cost :1.39455, Accuracy on Training 0.5500 -Validation Accuracy: 0.4062\n",
      "Epoch 17, CIFAR-10 Batch 1:  Cost :1.37072, Accuracy on Training 0.4750 -Validation Accuracy: 0.3984\n",
      "Epoch 18, CIFAR-10 Batch 1:  Cost :1.29028, Accuracy on Training 0.6000 -Validation Accuracy: 0.4230\n",
      "Epoch 19, CIFAR-10 Batch 1:  Cost :1.26758, Accuracy on Training 0.5750 -Validation Accuracy: 0.4168\n",
      "Epoch 20, CIFAR-10 Batch 1:  Cost :1.21041, Accuracy on Training 0.6000 -Validation Accuracy: 0.4368\n",
      "Epoch 21, CIFAR-10 Batch 1:  Cost :1.12846, Accuracy on Training 0.5750 -Validation Accuracy: 0.4432\n",
      "Epoch 22, CIFAR-10 Batch 1:  Cost :1.08093, Accuracy on Training 0.5500 -Validation Accuracy: 0.4438\n",
      "Epoch 23, CIFAR-10 Batch 1:  Cost :1.08809, Accuracy on Training 0.6250 -Validation Accuracy: 0.4542\n",
      "Epoch 24, CIFAR-10 Batch 1:  Cost :1.05775, Accuracy on Training 0.6000 -Validation Accuracy: 0.4448\n",
      "Epoch 25, CIFAR-10 Batch 1:  Cost :0.97258, Accuracy on Training 0.7250 -Validation Accuracy: 0.4724\n",
      "Epoch 26, CIFAR-10 Batch 1:  Cost :1.00328, Accuracy on Training 0.5500 -Validation Accuracy: 0.4658\n",
      "Epoch 27, CIFAR-10 Batch 1:  Cost :0.94278, Accuracy on Training 0.6000 -Validation Accuracy: 0.4710\n",
      "Epoch 28, CIFAR-10 Batch 1:  Cost :0.92126, Accuracy on Training 0.6500 -Validation Accuracy: 0.4808\n",
      "Epoch 29, CIFAR-10 Batch 1:  Cost :0.86490, Accuracy on Training 0.7250 -Validation Accuracy: 0.4870\n",
      "Epoch 30, CIFAR-10 Batch 1:  Cost :0.84031, Accuracy on Training 0.7250 -Validation Accuracy: 0.4896\n",
      "Epoch 31, CIFAR-10 Batch 1:  Cost :0.83611, Accuracy on Training 0.6750 -Validation Accuracy: 0.4892\n",
      "Epoch 32, CIFAR-10 Batch 1:  Cost :0.79273, Accuracy on Training 0.7500 -Validation Accuracy: 0.4900\n",
      "Epoch 33, CIFAR-10 Batch 1:  Cost :0.75036, Accuracy on Training 0.7500 -Validation Accuracy: 0.4952\n",
      "Epoch 34, CIFAR-10 Batch 1:  Cost :0.76735, Accuracy on Training 0.7500 -Validation Accuracy: 0.5044\n",
      "Epoch 35, CIFAR-10 Batch 1:  Cost :0.73415, Accuracy on Training 0.7750 -Validation Accuracy: 0.5026\n",
      "Epoch 36, CIFAR-10 Batch 1:  Cost :0.72963, Accuracy on Training 0.7500 -Validation Accuracy: 0.4986\n",
      "Epoch 37, CIFAR-10 Batch 1:  Cost :0.70584, Accuracy on Training 0.7750 -Validation Accuracy: 0.4934\n",
      "Epoch 38, CIFAR-10 Batch 1:  Cost :0.70243, Accuracy on Training 0.7500 -Validation Accuracy: 0.4918\n",
      "Epoch 39, CIFAR-10 Batch 1:  Cost :0.70525, Accuracy on Training 0.7500 -Validation Accuracy: 0.4710\n",
      "Epoch 40, CIFAR-10 Batch 1:  Cost :0.63553, Accuracy on Training 0.8000 -Validation Accuracy: 0.5020\n",
      "Epoch 41, CIFAR-10 Batch 1:  Cost :0.63121, Accuracy on Training 0.8000 -Validation Accuracy: 0.4802\n",
      "Epoch 42, CIFAR-10 Batch 1:  Cost :0.59174, Accuracy on Training 0.7750 -Validation Accuracy: 0.5002\n",
      "Epoch 43, CIFAR-10 Batch 1:  Cost :0.60985, Accuracy on Training 0.7500 -Validation Accuracy: 0.5070\n",
      "Epoch 44, CIFAR-10 Batch 1:  Cost :0.59311, Accuracy on Training 0.7750 -Validation Accuracy: 0.5174\n",
      "Epoch 45, CIFAR-10 Batch 1:  Cost :0.56903, Accuracy on Training 0.7750 -Validation Accuracy: 0.5046\n",
      "Epoch 46, CIFAR-10 Batch 1:  Cost :0.54753, Accuracy on Training 0.7750 -Validation Accuracy: 0.5060\n",
      "Epoch 47, CIFAR-10 Batch 1:  Cost :0.54964, Accuracy on Training 0.7750 -Validation Accuracy: 0.5212\n",
      "Epoch 48, CIFAR-10 Batch 1:  Cost :0.52150, Accuracy on Training 0.8500 -Validation Accuracy: 0.5196\n",
      "Epoch 49, CIFAR-10 Batch 1:  Cost :0.52993, Accuracy on Training 0.7750 -Validation Accuracy: 0.5160\n",
      "Epoch 50, CIFAR-10 Batch 1:  Cost :0.49316, Accuracy on Training 0.8250 -Validation Accuracy: 0.5272\n"
     ]
    }
   ],
   "source": [
    "print('Checking the Training on a Single Batch...')\n",
    "with tf.Session() as sess:\n",
    "    # Initializing the variables\n",
    "    sess.run(tf.global_variables_initializer())\n",
    "    \n",
    "    # Training cycle\n",
    "    for epoch in range(epochs):\n",
    "        batch_i = 1\n",
    "        for batch_features, batch_labels in load_preprocess_training_batch(batch_i, batch_size):\n",
    "            train_neural_network(sess, optimizer, keep_probability, batch_features, batch_labels)\n",
    "        print('Epoch {:>2}, CIFAR-10 Batch {}:  '.format(epoch + 1, batch_i), end='')\n",
    "        print_stats(sess, batch_features, batch_labels, cost, accuracy)"
   ]
  },
  {
   "cell_type": "markdown",
   "metadata": {},
   "source": [
    "### Fully Train the Model\n"
   ]
  },
  {
   "cell_type": "code",
   "execution_count": 19,
   "metadata": {
    "scrolled": false
   },
   "outputs": [
    {
     "name": "stdout",
     "output_type": "stream",
     "text": [
      "Training...\n",
      "Epoch  1, CIFAR-10 Batch 1:  Cost :2.29940, Accuracy on Training 0.1000 -Validation Accuracy: 0.1018\n",
      "Epoch  1, CIFAR-10 Batch 2:  Cost :2.27721, Accuracy on Training 0.1500 -Validation Accuracy: 0.1410\n",
      "Epoch  1, CIFAR-10 Batch 3:  Cost :2.26827, Accuracy on Training 0.3000 -Validation Accuracy: 0.1576\n",
      "Epoch  1, CIFAR-10 Batch 4:  Cost :2.23117, Accuracy on Training 0.1750 -Validation Accuracy: 0.1830\n",
      "Epoch  1, CIFAR-10 Batch 5:  Cost :2.13809, Accuracy on Training 0.3000 -Validation Accuracy: 0.2382\n",
      "Epoch  2, CIFAR-10 Batch 1:  Cost :2.20258, Accuracy on Training 0.2000 -Validation Accuracy: 0.2374\n",
      "Epoch  2, CIFAR-10 Batch 2:  Cost :1.90722, Accuracy on Training 0.3250 -Validation Accuracy: 0.2672\n",
      "Epoch  2, CIFAR-10 Batch 3:  Cost :1.67303, Accuracy on Training 0.5250 -Validation Accuracy: 0.2984\n",
      "Epoch  2, CIFAR-10 Batch 4:  Cost :1.83213, Accuracy on Training 0.3250 -Validation Accuracy: 0.3128\n",
      "Epoch  2, CIFAR-10 Batch 5:  Cost :1.72676, Accuracy on Training 0.4000 -Validation Accuracy: 0.3220\n",
      "Epoch  3, CIFAR-10 Batch 1:  Cost :2.00205, Accuracy on Training 0.3500 -Validation Accuracy: 0.3350\n",
      "Epoch  3, CIFAR-10 Batch 2:  Cost :1.76766, Accuracy on Training 0.3500 -Validation Accuracy: 0.3354\n",
      "Epoch  3, CIFAR-10 Batch 3:  Cost :1.51027, Accuracy on Training 0.5250 -Validation Accuracy: 0.3506\n",
      "Epoch  3, CIFAR-10 Batch 4:  Cost :1.68911, Accuracy on Training 0.3250 -Validation Accuracy: 0.3728\n",
      "Epoch  3, CIFAR-10 Batch 5:  Cost :1.59754, Accuracy on Training 0.3500 -Validation Accuracy: 0.3646\n",
      "Epoch  4, CIFAR-10 Batch 1:  Cost :1.81747, Accuracy on Training 0.4250 -Validation Accuracy: 0.3822\n",
      "Epoch  4, CIFAR-10 Batch 2:  Cost :1.68447, Accuracy on Training 0.4250 -Validation Accuracy: 0.3896\n",
      "Epoch  4, CIFAR-10 Batch 3:  Cost :1.34815, Accuracy on Training 0.5250 -Validation Accuracy: 0.4140\n",
      "Epoch  4, CIFAR-10 Batch 4:  Cost :1.59887, Accuracy on Training 0.3250 -Validation Accuracy: 0.3952\n",
      "Epoch  4, CIFAR-10 Batch 5:  Cost :1.46265, Accuracy on Training 0.5000 -Validation Accuracy: 0.4180\n",
      "Epoch  5, CIFAR-10 Batch 1:  Cost :1.63833, Accuracy on Training 0.4250 -Validation Accuracy: 0.4232\n",
      "Epoch  5, CIFAR-10 Batch 2:  Cost :1.55350, Accuracy on Training 0.4750 -Validation Accuracy: 0.4334\n",
      "Epoch  5, CIFAR-10 Batch 3:  Cost :1.26659, Accuracy on Training 0.5250 -Validation Accuracy: 0.4246\n",
      "Epoch  5, CIFAR-10 Batch 4:  Cost :1.50562, Accuracy on Training 0.3750 -Validation Accuracy: 0.4462\n",
      "Epoch  5, CIFAR-10 Batch 5:  Cost :1.36631, Accuracy on Training 0.5250 -Validation Accuracy: 0.4522\n",
      "Epoch  6, CIFAR-10 Batch 1:  Cost :1.49869, Accuracy on Training 0.5250 -Validation Accuracy: 0.4682\n",
      "Epoch  6, CIFAR-10 Batch 2:  Cost :1.48632, Accuracy on Training 0.4500 -Validation Accuracy: 0.4754\n",
      "Epoch  6, CIFAR-10 Batch 3:  Cost :1.17089, Accuracy on Training 0.5500 -Validation Accuracy: 0.4812\n",
      "Epoch  6, CIFAR-10 Batch 4:  Cost :1.43060, Accuracy on Training 0.4750 -Validation Accuracy: 0.4708\n",
      "Epoch  6, CIFAR-10 Batch 5:  Cost :1.28191, Accuracy on Training 0.5750 -Validation Accuracy: 0.4868\n",
      "Epoch  7, CIFAR-10 Batch 1:  Cost :1.35233, Accuracy on Training 0.5500 -Validation Accuracy: 0.4904\n",
      "Epoch  7, CIFAR-10 Batch 2:  Cost :1.28294, Accuracy on Training 0.5500 -Validation Accuracy: 0.4990\n",
      "Epoch  7, CIFAR-10 Batch 3:  Cost :1.15117, Accuracy on Training 0.6000 -Validation Accuracy: 0.5082\n",
      "Epoch  7, CIFAR-10 Batch 4:  Cost :1.33771, Accuracy on Training 0.5250 -Validation Accuracy: 0.5048\n",
      "Epoch  7, CIFAR-10 Batch 5:  Cost :1.18067, Accuracy on Training 0.5750 -Validation Accuracy: 0.5076\n",
      "Epoch  8, CIFAR-10 Batch 1:  Cost :1.24442, Accuracy on Training 0.5500 -Validation Accuracy: 0.5284\n",
      "Epoch  8, CIFAR-10 Batch 2:  Cost :1.26392, Accuracy on Training 0.5000 -Validation Accuracy: 0.5282\n",
      "Epoch  8, CIFAR-10 Batch 3:  Cost :1.05632, Accuracy on Training 0.6000 -Validation Accuracy: 0.5140\n",
      "Epoch  8, CIFAR-10 Batch 4:  Cost :1.25607, Accuracy on Training 0.5750 -Validation Accuracy: 0.5272\n",
      "Epoch  8, CIFAR-10 Batch 5:  Cost :1.13462, Accuracy on Training 0.6000 -Validation Accuracy: 0.5086\n",
      "Epoch  9, CIFAR-10 Batch 1:  Cost :1.23371, Accuracy on Training 0.5250 -Validation Accuracy: 0.5262\n",
      "Epoch  9, CIFAR-10 Batch 2:  Cost :1.19120, Accuracy on Training 0.5250 -Validation Accuracy: 0.5340\n",
      "Epoch  9, CIFAR-10 Batch 3:  Cost :1.01417, Accuracy on Training 0.6250 -Validation Accuracy: 0.5320\n",
      "Epoch  9, CIFAR-10 Batch 4:  Cost :1.22718, Accuracy on Training 0.5500 -Validation Accuracy: 0.5306\n",
      "Epoch  9, CIFAR-10 Batch 5:  Cost :1.11583, Accuracy on Training 0.6250 -Validation Accuracy: 0.5204\n",
      "Epoch 10, CIFAR-10 Batch 1:  Cost :1.16507, Accuracy on Training 0.6000 -Validation Accuracy: 0.5366\n",
      "Epoch 10, CIFAR-10 Batch 2:  Cost :1.14936, Accuracy on Training 0.5000 -Validation Accuracy: 0.5490\n",
      "Epoch 10, CIFAR-10 Batch 3:  Cost :0.95165, Accuracy on Training 0.6750 -Validation Accuracy: 0.5458\n",
      "Epoch 10, CIFAR-10 Batch 4:  Cost :1.09941, Accuracy on Training 0.5500 -Validation Accuracy: 0.5352\n",
      "Epoch 10, CIFAR-10 Batch 5:  Cost :1.00424, Accuracy on Training 0.6250 -Validation Accuracy: 0.5364\n",
      "Epoch 11, CIFAR-10 Batch 1:  Cost :1.11074, Accuracy on Training 0.6250 -Validation Accuracy: 0.5446\n",
      "Epoch 11, CIFAR-10 Batch 2:  Cost :1.03326, Accuracy on Training 0.6000 -Validation Accuracy: 0.5574\n",
      "Epoch 11, CIFAR-10 Batch 3:  Cost :0.90296, Accuracy on Training 0.7250 -Validation Accuracy: 0.5596\n",
      "Epoch 11, CIFAR-10 Batch 4:  Cost :1.00375, Accuracy on Training 0.6250 -Validation Accuracy: 0.5696\n",
      "Epoch 11, CIFAR-10 Batch 5:  Cost :0.95791, Accuracy on Training 0.6750 -Validation Accuracy: 0.5580\n",
      "Epoch 12, CIFAR-10 Batch 1:  Cost :1.04446, Accuracy on Training 0.6500 -Validation Accuracy: 0.5652\n",
      "Epoch 12, CIFAR-10 Batch 2:  Cost :0.99602, Accuracy on Training 0.6000 -Validation Accuracy: 0.5694\n",
      "Epoch 12, CIFAR-10 Batch 3:  Cost :0.86979, Accuracy on Training 0.6750 -Validation Accuracy: 0.5614\n",
      "Epoch 12, CIFAR-10 Batch 4:  Cost :1.01787, Accuracy on Training 0.7000 -Validation Accuracy: 0.5644\n",
      "Epoch 12, CIFAR-10 Batch 5:  Cost :0.92378, Accuracy on Training 0.6750 -Validation Accuracy: 0.5692\n",
      "Epoch 13, CIFAR-10 Batch 1:  Cost :0.95654, Accuracy on Training 0.6500 -Validation Accuracy: 0.5654\n",
      "Epoch 13, CIFAR-10 Batch 2:  Cost :0.95174, Accuracy on Training 0.5750 -Validation Accuracy: 0.5760\n",
      "Epoch 13, CIFAR-10 Batch 3:  Cost :0.79952, Accuracy on Training 0.7000 -Validation Accuracy: 0.5754\n",
      "Epoch 13, CIFAR-10 Batch 4:  Cost :0.87423, Accuracy on Training 0.6750 -Validation Accuracy: 0.5832\n",
      "Epoch 13, CIFAR-10 Batch 5:  Cost :0.91677, Accuracy on Training 0.6750 -Validation Accuracy: 0.5738\n",
      "Epoch 14, CIFAR-10 Batch 1:  Cost :0.91263, Accuracy on Training 0.7000 -Validation Accuracy: 0.5634\n",
      "Epoch 14, CIFAR-10 Batch 2:  Cost :0.91169, Accuracy on Training 0.5750 -Validation Accuracy: 0.5828\n",
      "Epoch 14, CIFAR-10 Batch 3:  Cost :0.76646, Accuracy on Training 0.7500 -Validation Accuracy: 0.5864\n",
      "Epoch 14, CIFAR-10 Batch 4:  Cost :0.88019, Accuracy on Training 0.7250 -Validation Accuracy: 0.5874\n",
      "Epoch 14, CIFAR-10 Batch 5:  Cost :0.88614, Accuracy on Training 0.6500 -Validation Accuracy: 0.5778\n",
      "Epoch 15, CIFAR-10 Batch 1:  Cost :0.84697, Accuracy on Training 0.6500 -Validation Accuracy: 0.5880\n",
      "Epoch 15, CIFAR-10 Batch 2:  Cost :0.86663, Accuracy on Training 0.6250 -Validation Accuracy: 0.5930\n",
      "Epoch 15, CIFAR-10 Batch 3:  Cost :0.76052, Accuracy on Training 0.7250 -Validation Accuracy: 0.5876\n",
      "Epoch 15, CIFAR-10 Batch 4:  Cost :0.82971, Accuracy on Training 0.7250 -Validation Accuracy: 0.6008\n",
      "Epoch 15, CIFAR-10 Batch 5:  Cost :0.79854, Accuracy on Training 0.7250 -Validation Accuracy: 0.5992\n",
      "Epoch 16, CIFAR-10 Batch 1:  Cost :0.80492, Accuracy on Training 0.7500 -Validation Accuracy: 0.5872\n",
      "Epoch 16, CIFAR-10 Batch 2:  Cost :0.83191, Accuracy on Training 0.6250 -Validation Accuracy: 0.6106\n",
      "Epoch 16, CIFAR-10 Batch 3:  Cost :0.73461, Accuracy on Training 0.7000 -Validation Accuracy: 0.6078\n",
      "Epoch 16, CIFAR-10 Batch 4:  Cost :0.82652, Accuracy on Training 0.7500 -Validation Accuracy: 0.6028\n",
      "Epoch 16, CIFAR-10 Batch 5:  Cost :0.78897, Accuracy on Training 0.7500 -Validation Accuracy: 0.5968\n",
      "Epoch 17, CIFAR-10 Batch 1:  Cost :0.76661, Accuracy on Training 0.7250 -Validation Accuracy: 0.5918\n"
     ]
    },
    {
     "name": "stdout",
     "output_type": "stream",
     "text": [
      "Epoch 17, CIFAR-10 Batch 2:  Cost :0.79248, Accuracy on Training 0.6750 -Validation Accuracy: 0.6138\n",
      "Epoch 17, CIFAR-10 Batch 3:  Cost :0.68551, Accuracy on Training 0.7500 -Validation Accuracy: 0.5944\n",
      "Epoch 17, CIFAR-10 Batch 4:  Cost :0.75947, Accuracy on Training 0.7750 -Validation Accuracy: 0.6032\n",
      "Epoch 17, CIFAR-10 Batch 5:  Cost :0.77048, Accuracy on Training 0.7000 -Validation Accuracy: 0.6060\n",
      "Epoch 18, CIFAR-10 Batch 1:  Cost :0.73106, Accuracy on Training 0.7500 -Validation Accuracy: 0.6116\n",
      "Epoch 18, CIFAR-10 Batch 2:  Cost :0.81003, Accuracy on Training 0.6500 -Validation Accuracy: 0.6094\n",
      "Epoch 18, CIFAR-10 Batch 3:  Cost :0.64991, Accuracy on Training 0.7000 -Validation Accuracy: 0.6006\n",
      "Epoch 18, CIFAR-10 Batch 4:  Cost :0.68728, Accuracy on Training 0.8250 -Validation Accuracy: 0.6126\n",
      "Epoch 18, CIFAR-10 Batch 5:  Cost :0.74991, Accuracy on Training 0.7750 -Validation Accuracy: 0.6196\n",
      "Epoch 19, CIFAR-10 Batch 1:  Cost :0.70866, Accuracy on Training 0.7500 -Validation Accuracy: 0.6206\n",
      "Epoch 19, CIFAR-10 Batch 2:  Cost :0.79935, Accuracy on Training 0.7000 -Validation Accuracy: 0.6166\n",
      "Epoch 19, CIFAR-10 Batch 3:  Cost :0.58875, Accuracy on Training 0.7750 -Validation Accuracy: 0.6068\n",
      "Epoch 19, CIFAR-10 Batch 4:  Cost :0.68280, Accuracy on Training 0.8000 -Validation Accuracy: 0.6284\n",
      "Epoch 19, CIFAR-10 Batch 5:  Cost :0.73844, Accuracy on Training 0.7500 -Validation Accuracy: 0.6146\n",
      "Epoch 20, CIFAR-10 Batch 1:  Cost :0.67885, Accuracy on Training 0.6750 -Validation Accuracy: 0.6276\n",
      "Epoch 20, CIFAR-10 Batch 2:  Cost :0.74280, Accuracy on Training 0.7250 -Validation Accuracy: 0.6248\n",
      "Epoch 20, CIFAR-10 Batch 3:  Cost :0.56435, Accuracy on Training 0.8250 -Validation Accuracy: 0.6246\n",
      "Epoch 20, CIFAR-10 Batch 4:  Cost :0.67321, Accuracy on Training 0.8250 -Validation Accuracy: 0.6334\n",
      "Epoch 20, CIFAR-10 Batch 5:  Cost :0.71016, Accuracy on Training 0.8000 -Validation Accuracy: 0.6202\n",
      "Epoch 21, CIFAR-10 Batch 1:  Cost :0.68473, Accuracy on Training 0.7000 -Validation Accuracy: 0.6180\n",
      "Epoch 21, CIFAR-10 Batch 2:  Cost :0.75570, Accuracy on Training 0.7250 -Validation Accuracy: 0.6278\n",
      "Epoch 21, CIFAR-10 Batch 3:  Cost :0.55606, Accuracy on Training 0.7750 -Validation Accuracy: 0.6240\n",
      "Epoch 21, CIFAR-10 Batch 4:  Cost :0.65635, Accuracy on Training 0.8250 -Validation Accuracy: 0.6270\n",
      "Epoch 21, CIFAR-10 Batch 5:  Cost :0.66639, Accuracy on Training 0.8000 -Validation Accuracy: 0.6238\n",
      "Epoch 22, CIFAR-10 Batch 1:  Cost :0.64394, Accuracy on Training 0.7500 -Validation Accuracy: 0.6334\n",
      "Epoch 22, CIFAR-10 Batch 2:  Cost :0.65956, Accuracy on Training 0.7750 -Validation Accuracy: 0.6232\n",
      "Epoch 22, CIFAR-10 Batch 3:  Cost :0.54107, Accuracy on Training 0.7750 -Validation Accuracy: 0.6234\n",
      "Epoch 22, CIFAR-10 Batch 4:  Cost :0.59605, Accuracy on Training 0.8750 -Validation Accuracy: 0.6320\n",
      "Epoch 22, CIFAR-10 Batch 5:  Cost :0.65278, Accuracy on Training 0.8000 -Validation Accuracy: 0.6292\n",
      "Epoch 23, CIFAR-10 Batch 1:  Cost :0.60298, Accuracy on Training 0.7500 -Validation Accuracy: 0.6374\n",
      "Epoch 23, CIFAR-10 Batch 2:  Cost :0.59675, Accuracy on Training 0.7750 -Validation Accuracy: 0.6222\n",
      "Epoch 23, CIFAR-10 Batch 3:  Cost :0.54236, Accuracy on Training 0.8000 -Validation Accuracy: 0.6332\n",
      "Epoch 23, CIFAR-10 Batch 4:  Cost :0.58217, Accuracy on Training 0.8500 -Validation Accuracy: 0.6344\n",
      "Epoch 23, CIFAR-10 Batch 5:  Cost :0.62925, Accuracy on Training 0.8250 -Validation Accuracy: 0.6304\n",
      "Epoch 24, CIFAR-10 Batch 1:  Cost :0.61196, Accuracy on Training 0.7500 -Validation Accuracy: 0.6412\n",
      "Epoch 24, CIFAR-10 Batch 2:  Cost :0.63877, Accuracy on Training 0.7250 -Validation Accuracy: 0.6312\n",
      "Epoch 24, CIFAR-10 Batch 3:  Cost :0.50958, Accuracy on Training 0.8250 -Validation Accuracy: 0.6406\n",
      "Epoch 24, CIFAR-10 Batch 4:  Cost :0.56035, Accuracy on Training 0.9250 -Validation Accuracy: 0.6410\n",
      "Epoch 24, CIFAR-10 Batch 5:  Cost :0.61978, Accuracy on Training 0.8500 -Validation Accuracy: 0.6294\n",
      "Epoch 25, CIFAR-10 Batch 1:  Cost :0.64487, Accuracy on Training 0.7250 -Validation Accuracy: 0.6424\n",
      "Epoch 25, CIFAR-10 Batch 2:  Cost :0.57786, Accuracy on Training 0.8000 -Validation Accuracy: 0.6344\n",
      "Epoch 25, CIFAR-10 Batch 3:  Cost :0.48219, Accuracy on Training 0.8250 -Validation Accuracy: 0.6356\n",
      "Epoch 25, CIFAR-10 Batch 4:  Cost :0.53598, Accuracy on Training 0.8500 -Validation Accuracy: 0.6456\n",
      "Epoch 25, CIFAR-10 Batch 5:  Cost :0.58668, Accuracy on Training 0.8500 -Validation Accuracy: 0.6410\n",
      "Epoch 26, CIFAR-10 Batch 1:  Cost :0.57147, Accuracy on Training 0.7500 -Validation Accuracy: 0.6414\n",
      "Epoch 26, CIFAR-10 Batch 2:  Cost :0.56839, Accuracy on Training 0.7750 -Validation Accuracy: 0.6400\n",
      "Epoch 26, CIFAR-10 Batch 3:  Cost :0.47838, Accuracy on Training 0.8750 -Validation Accuracy: 0.6450\n",
      "Epoch 26, CIFAR-10 Batch 4:  Cost :0.54626, Accuracy on Training 0.8750 -Validation Accuracy: 0.6454\n",
      "Epoch 26, CIFAR-10 Batch 5:  Cost :0.61421, Accuracy on Training 0.8250 -Validation Accuracy: 0.6290\n",
      "Epoch 27, CIFAR-10 Batch 1:  Cost :0.57396, Accuracy on Training 0.7500 -Validation Accuracy: 0.6414\n",
      "Epoch 27, CIFAR-10 Batch 2:  Cost :0.54267, Accuracy on Training 0.8000 -Validation Accuracy: 0.6424\n",
      "Epoch 27, CIFAR-10 Batch 3:  Cost :0.46480, Accuracy on Training 0.8500 -Validation Accuracy: 0.6498\n",
      "Epoch 27, CIFAR-10 Batch 4:  Cost :0.51518, Accuracy on Training 0.9500 -Validation Accuracy: 0.6482\n",
      "Epoch 27, CIFAR-10 Batch 5:  Cost :0.57414, Accuracy on Training 0.8500 -Validation Accuracy: 0.6318\n",
      "Epoch 28, CIFAR-10 Batch 1:  Cost :0.57794, Accuracy on Training 0.7500 -Validation Accuracy: 0.6454\n",
      "Epoch 28, CIFAR-10 Batch 2:  Cost :0.48960, Accuracy on Training 0.8250 -Validation Accuracy: 0.6490\n",
      "Epoch 28, CIFAR-10 Batch 3:  Cost :0.47747, Accuracy on Training 0.8250 -Validation Accuracy: 0.6526\n",
      "Epoch 28, CIFAR-10 Batch 4:  Cost :0.53871, Accuracy on Training 0.9250 -Validation Accuracy: 0.6538\n",
      "Epoch 28, CIFAR-10 Batch 5:  Cost :0.51327, Accuracy on Training 0.9000 -Validation Accuracy: 0.6522\n",
      "Epoch 29, CIFAR-10 Batch 1:  Cost :0.55371, Accuracy on Training 0.7500 -Validation Accuracy: 0.6514\n",
      "Epoch 29, CIFAR-10 Batch 2:  Cost :0.48345, Accuracy on Training 0.8250 -Validation Accuracy: 0.6498\n",
      "Epoch 29, CIFAR-10 Batch 3:  Cost :0.44025, Accuracy on Training 0.8500 -Validation Accuracy: 0.6544\n",
      "Epoch 29, CIFAR-10 Batch 4:  Cost :0.42793, Accuracy on Training 0.9750 -Validation Accuracy: 0.6526\n",
      "Epoch 29, CIFAR-10 Batch 5:  Cost :0.53616, Accuracy on Training 0.8750 -Validation Accuracy: 0.6426\n",
      "Epoch 30, CIFAR-10 Batch 1:  Cost :0.51652, Accuracy on Training 0.8000 -Validation Accuracy: 0.6476\n",
      "Epoch 30, CIFAR-10 Batch 2:  Cost :0.48758, Accuracy on Training 0.8500 -Validation Accuracy: 0.6594\n",
      "Epoch 30, CIFAR-10 Batch 3:  Cost :0.42065, Accuracy on Training 0.8000 -Validation Accuracy: 0.6570\n",
      "Epoch 30, CIFAR-10 Batch 4:  Cost :0.47654, Accuracy on Training 0.9250 -Validation Accuracy: 0.6544\n",
      "Epoch 30, CIFAR-10 Batch 5:  Cost :0.51399, Accuracy on Training 0.8750 -Validation Accuracy: 0.6458\n",
      "Epoch 31, CIFAR-10 Batch 1:  Cost :0.50932, Accuracy on Training 0.7750 -Validation Accuracy: 0.6610\n",
      "Epoch 31, CIFAR-10 Batch 2:  Cost :0.52010, Accuracy on Training 0.8250 -Validation Accuracy: 0.6528\n",
      "Epoch 31, CIFAR-10 Batch 3:  Cost :0.41673, Accuracy on Training 0.8250 -Validation Accuracy: 0.6596\n",
      "Epoch 31, CIFAR-10 Batch 4:  Cost :0.43569, Accuracy on Training 0.9250 -Validation Accuracy: 0.6558\n",
      "Epoch 31, CIFAR-10 Batch 5:  Cost :0.52330, Accuracy on Training 0.8500 -Validation Accuracy: 0.6490\n",
      "Epoch 32, CIFAR-10 Batch 1:  Cost :0.54192, Accuracy on Training 0.7750 -Validation Accuracy: 0.6570\n",
      "Epoch 32, CIFAR-10 Batch 2:  Cost :0.45178, Accuracy on Training 0.8000 -Validation Accuracy: 0.6566\n",
      "Epoch 32, CIFAR-10 Batch 3:  Cost :0.39764, Accuracy on Training 0.9250 -Validation Accuracy: 0.6602\n",
      "Epoch 32, CIFAR-10 Batch 4:  Cost :0.40220, Accuracy on Training 0.9500 -Validation Accuracy: 0.6604\n",
      "Epoch 32, CIFAR-10 Batch 5:  Cost :0.48854, Accuracy on Training 0.8750 -Validation Accuracy: 0.6502\n",
      "Epoch 33, CIFAR-10 Batch 1:  Cost :0.47630, Accuracy on Training 0.8000 -Validation Accuracy: 0.6546\n",
      "Epoch 33, CIFAR-10 Batch 2:  Cost :0.42439, Accuracy on Training 0.9000 -Validation Accuracy: 0.6534\n"
     ]
    },
    {
     "name": "stdout",
     "output_type": "stream",
     "text": [
      "Epoch 33, CIFAR-10 Batch 3:  Cost :0.37412, Accuracy on Training 0.9250 -Validation Accuracy: 0.6612\n",
      "Epoch 33, CIFAR-10 Batch 4:  Cost :0.40532, Accuracy on Training 0.9500 -Validation Accuracy: 0.6652\n",
      "Epoch 33, CIFAR-10 Batch 5:  Cost :0.43937, Accuracy on Training 0.9250 -Validation Accuracy: 0.6594\n",
      "Epoch 34, CIFAR-10 Batch 1:  Cost :0.46078, Accuracy on Training 0.8250 -Validation Accuracy: 0.6598\n",
      "Epoch 34, CIFAR-10 Batch 2:  Cost :0.44517, Accuracy on Training 0.8250 -Validation Accuracy: 0.6500\n",
      "Epoch 34, CIFAR-10 Batch 3:  Cost :0.40497, Accuracy on Training 0.9000 -Validation Accuracy: 0.6652\n",
      "Epoch 34, CIFAR-10 Batch 4:  Cost :0.45055, Accuracy on Training 0.9250 -Validation Accuracy: 0.6598\n",
      "Epoch 34, CIFAR-10 Batch 5:  Cost :0.43564, Accuracy on Training 0.9250 -Validation Accuracy: 0.6642\n",
      "Epoch 35, CIFAR-10 Batch 1:  Cost :0.45283, Accuracy on Training 0.8000 -Validation Accuracy: 0.6628\n",
      "Epoch 35, CIFAR-10 Batch 2:  Cost :0.39377, Accuracy on Training 0.8750 -Validation Accuracy: 0.6448\n",
      "Epoch 35, CIFAR-10 Batch 3:  Cost :0.38651, Accuracy on Training 0.8750 -Validation Accuracy: 0.6596\n",
      "Epoch 35, CIFAR-10 Batch 4:  Cost :0.37845, Accuracy on Training 0.9500 -Validation Accuracy: 0.6634\n",
      "Epoch 35, CIFAR-10 Batch 5:  Cost :0.44126, Accuracy on Training 0.9000 -Validation Accuracy: 0.6558\n",
      "Epoch 36, CIFAR-10 Batch 1:  Cost :0.43968, Accuracy on Training 0.8750 -Validation Accuracy: 0.6656\n",
      "Epoch 36, CIFAR-10 Batch 2:  Cost :0.40128, Accuracy on Training 0.8500 -Validation Accuracy: 0.6572\n",
      "Epoch 36, CIFAR-10 Batch 3:  Cost :0.36383, Accuracy on Training 0.9250 -Validation Accuracy: 0.6668\n",
      "Epoch 36, CIFAR-10 Batch 4:  Cost :0.36021, Accuracy on Training 0.9500 -Validation Accuracy: 0.6626\n",
      "Epoch 36, CIFAR-10 Batch 5:  Cost :0.43153, Accuracy on Training 0.9000 -Validation Accuracy: 0.6600\n",
      "Epoch 37, CIFAR-10 Batch 1:  Cost :0.43167, Accuracy on Training 0.8250 -Validation Accuracy: 0.6628\n",
      "Epoch 37, CIFAR-10 Batch 2:  Cost :0.40638, Accuracy on Training 0.8500 -Validation Accuracy: 0.6506\n",
      "Epoch 37, CIFAR-10 Batch 3:  Cost :0.32605, Accuracy on Training 0.9250 -Validation Accuracy: 0.6718\n",
      "Epoch 37, CIFAR-10 Batch 4:  Cost :0.34989, Accuracy on Training 0.9750 -Validation Accuracy: 0.6744\n",
      "Epoch 37, CIFAR-10 Batch 5:  Cost :0.41204, Accuracy on Training 0.9250 -Validation Accuracy: 0.6658\n",
      "Epoch 38, CIFAR-10 Batch 1:  Cost :0.42340, Accuracy on Training 0.8500 -Validation Accuracy: 0.6616\n",
      "Epoch 38, CIFAR-10 Batch 2:  Cost :0.41602, Accuracy on Training 0.8500 -Validation Accuracy: 0.6590\n",
      "Epoch 38, CIFAR-10 Batch 3:  Cost :0.34831, Accuracy on Training 0.9500 -Validation Accuracy: 0.6656\n",
      "Epoch 38, CIFAR-10 Batch 4:  Cost :0.35212, Accuracy on Training 0.9750 -Validation Accuracy: 0.6666\n",
      "Epoch 38, CIFAR-10 Batch 5:  Cost :0.39042, Accuracy on Training 0.9250 -Validation Accuracy: 0.6714\n",
      "Epoch 39, CIFAR-10 Batch 1:  Cost :0.41204, Accuracy on Training 0.9000 -Validation Accuracy: 0.6588\n",
      "Epoch 39, CIFAR-10 Batch 2:  Cost :0.39835, Accuracy on Training 0.9000 -Validation Accuracy: 0.6670\n",
      "Epoch 39, CIFAR-10 Batch 3:  Cost :0.31766, Accuracy on Training 0.9250 -Validation Accuracy: 0.6694\n",
      "Epoch 39, CIFAR-10 Batch 4:  Cost :0.33459, Accuracy on Training 0.9750 -Validation Accuracy: 0.6618\n",
      "Epoch 39, CIFAR-10 Batch 5:  Cost :0.38057, Accuracy on Training 0.9250 -Validation Accuracy: 0.6666\n",
      "Epoch 40, CIFAR-10 Batch 1:  Cost :0.42044, Accuracy on Training 0.8250 -Validation Accuracy: 0.6538\n",
      "Epoch 40, CIFAR-10 Batch 2:  Cost :0.37971, Accuracy on Training 0.8500 -Validation Accuracy: 0.6554\n",
      "Epoch 40, CIFAR-10 Batch 3:  Cost :0.31224, Accuracy on Training 0.9250 -Validation Accuracy: 0.6710\n",
      "Epoch 40, CIFAR-10 Batch 4:  Cost :0.33863, Accuracy on Training 0.9750 -Validation Accuracy: 0.6714\n",
      "Epoch 40, CIFAR-10 Batch 5:  Cost :0.36471, Accuracy on Training 0.9250 -Validation Accuracy: 0.6692\n",
      "Epoch 41, CIFAR-10 Batch 1:  Cost :0.46803, Accuracy on Training 0.8250 -Validation Accuracy: 0.6508\n",
      "Epoch 41, CIFAR-10 Batch 2:  Cost :0.34143, Accuracy on Training 0.9500 -Validation Accuracy: 0.6636\n",
      "Epoch 41, CIFAR-10 Batch 3:  Cost :0.29240, Accuracy on Training 0.9750 -Validation Accuracy: 0.6740\n",
      "Epoch 41, CIFAR-10 Batch 4:  Cost :0.35280, Accuracy on Training 0.9500 -Validation Accuracy: 0.6680\n",
      "Epoch 41, CIFAR-10 Batch 5:  Cost :0.36647, Accuracy on Training 0.9250 -Validation Accuracy: 0.6750\n",
      "Epoch 42, CIFAR-10 Batch 1:  Cost :0.43589, Accuracy on Training 0.8750 -Validation Accuracy: 0.6546\n",
      "Epoch 42, CIFAR-10 Batch 2:  Cost :0.33925, Accuracy on Training 0.9000 -Validation Accuracy: 0.6684\n",
      "Epoch 42, CIFAR-10 Batch 3:  Cost :0.32126, Accuracy on Training 0.9500 -Validation Accuracy: 0.6700\n",
      "Epoch 42, CIFAR-10 Batch 4:  Cost :0.34826, Accuracy on Training 0.9750 -Validation Accuracy: 0.6670\n",
      "Epoch 42, CIFAR-10 Batch 5:  Cost :0.37421, Accuracy on Training 0.9250 -Validation Accuracy: 0.6720\n",
      "Epoch 43, CIFAR-10 Batch 1:  Cost :0.40497, Accuracy on Training 0.8500 -Validation Accuracy: 0.6604\n",
      "Epoch 43, CIFAR-10 Batch 2:  Cost :0.35696, Accuracy on Training 0.8500 -Validation Accuracy: 0.6670\n",
      "Epoch 43, CIFAR-10 Batch 3:  Cost :0.29074, Accuracy on Training 0.9250 -Validation Accuracy: 0.6636\n",
      "Epoch 43, CIFAR-10 Batch 4:  Cost :0.32138, Accuracy on Training 0.9500 -Validation Accuracy: 0.6708\n",
      "Epoch 43, CIFAR-10 Batch 5:  Cost :0.37383, Accuracy on Training 0.9000 -Validation Accuracy: 0.6642\n",
      "Epoch 44, CIFAR-10 Batch 1:  Cost :0.39806, Accuracy on Training 0.8500 -Validation Accuracy: 0.6574\n",
      "Epoch 44, CIFAR-10 Batch 2:  Cost :0.32460, Accuracy on Training 0.8750 -Validation Accuracy: 0.6718\n",
      "Epoch 44, CIFAR-10 Batch 3:  Cost :0.29184, Accuracy on Training 0.9250 -Validation Accuracy: 0.6710\n",
      "Epoch 44, CIFAR-10 Batch 4:  Cost :0.30996, Accuracy on Training 0.9750 -Validation Accuracy: 0.6716\n",
      "Epoch 44, CIFAR-10 Batch 5:  Cost :0.34002, Accuracy on Training 0.9500 -Validation Accuracy: 0.6624\n",
      "Epoch 45, CIFAR-10 Batch 1:  Cost :0.37809, Accuracy on Training 0.8750 -Validation Accuracy: 0.6586\n",
      "Epoch 45, CIFAR-10 Batch 2:  Cost :0.32248, Accuracy on Training 0.9000 -Validation Accuracy: 0.6674\n",
      "Epoch 45, CIFAR-10 Batch 3:  Cost :0.27858, Accuracy on Training 0.9750 -Validation Accuracy: 0.6650\n",
      "Epoch 45, CIFAR-10 Batch 4:  Cost :0.30666, Accuracy on Training 0.9750 -Validation Accuracy: 0.6660\n",
      "Epoch 45, CIFAR-10 Batch 5:  Cost :0.37296, Accuracy on Training 0.9500 -Validation Accuracy: 0.6686\n",
      "Epoch 46, CIFAR-10 Batch 1:  Cost :0.38495, Accuracy on Training 0.8500 -Validation Accuracy: 0.6540\n",
      "Epoch 46, CIFAR-10 Batch 2:  Cost :0.31564, Accuracy on Training 0.9000 -Validation Accuracy: 0.6770\n",
      "Epoch 46, CIFAR-10 Batch 3:  Cost :0.28401, Accuracy on Training 0.9750 -Validation Accuracy: 0.6796\n",
      "Epoch 46, CIFAR-10 Batch 4:  Cost :0.29864, Accuracy on Training 0.9750 -Validation Accuracy: 0.6718\n",
      "Epoch 46, CIFAR-10 Batch 5:  Cost :0.30910, Accuracy on Training 0.9500 -Validation Accuracy: 0.6692\n",
      "Epoch 47, CIFAR-10 Batch 1:  Cost :0.39998, Accuracy on Training 0.8500 -Validation Accuracy: 0.6612\n",
      "Epoch 47, CIFAR-10 Batch 2:  Cost :0.32297, Accuracy on Training 0.9000 -Validation Accuracy: 0.6686\n",
      "Epoch 47, CIFAR-10 Batch 3:  Cost :0.24427, Accuracy on Training 0.9750 -Validation Accuracy: 0.6798\n",
      "Epoch 47, CIFAR-10 Batch 4:  Cost :0.32634, Accuracy on Training 0.9750 -Validation Accuracy: 0.6696\n",
      "Epoch 47, CIFAR-10 Batch 5:  Cost :0.29722, Accuracy on Training 0.9500 -Validation Accuracy: 0.6798\n",
      "Epoch 48, CIFAR-10 Batch 1:  Cost :0.44302, Accuracy on Training 0.7750 -Validation Accuracy: 0.6496\n",
      "Epoch 48, CIFAR-10 Batch 2:  Cost :0.32005, Accuracy on Training 0.9000 -Validation Accuracy: 0.6730\n",
      "Epoch 48, CIFAR-10 Batch 3:  Cost :0.24059, Accuracy on Training 0.9750 -Validation Accuracy: 0.6772\n",
      "Epoch 48, CIFAR-10 Batch 4:  Cost :0.30377, Accuracy on Training 0.9750 -Validation Accuracy: 0.6508\n",
      "Epoch 48, CIFAR-10 Batch 5:  Cost :0.32053, Accuracy on Training 0.9500 -Validation Accuracy: 0.6698\n",
      "Epoch 49, CIFAR-10 Batch 1:  Cost :0.35793, Accuracy on Training 0.9000 -Validation Accuracy: 0.6658\n",
      "Epoch 49, CIFAR-10 Batch 2:  Cost :0.35780, Accuracy on Training 0.8750 -Validation Accuracy: 0.6732\n",
      "Epoch 49, CIFAR-10 Batch 3:  Cost :0.22834, Accuracy on Training 1.0000 -Validation Accuracy: 0.6806\n"
     ]
    },
    {
     "name": "stdout",
     "output_type": "stream",
     "text": [
      "Epoch 49, CIFAR-10 Batch 4:  Cost :0.30056, Accuracy on Training 0.9750 -Validation Accuracy: 0.6616\n",
      "Epoch 49, CIFAR-10 Batch 5:  Cost :0.29838, Accuracy on Training 0.9500 -Validation Accuracy: 0.6760\n",
      "Epoch 50, CIFAR-10 Batch 1:  Cost :0.39035, Accuracy on Training 0.8750 -Validation Accuracy: 0.6510\n",
      "Epoch 50, CIFAR-10 Batch 2:  Cost :0.35161, Accuracy on Training 0.8750 -Validation Accuracy: 0.6560\n",
      "Epoch 50, CIFAR-10 Batch 3:  Cost :0.27711, Accuracy on Training 0.9750 -Validation Accuracy: 0.6782\n",
      "Epoch 50, CIFAR-10 Batch 4:  Cost :0.28375, Accuracy on Training 0.9750 -Validation Accuracy: 0.6728\n",
      "Epoch 50, CIFAR-10 Batch 5:  Cost :0.28954, Accuracy on Training 0.9500 -Validation Accuracy: 0.6760\n"
     ]
    }
   ],
   "source": [
    "save_model_path = './image_classification'\n",
    "\n",
    "print('Training...')\n",
    "with tf.Session() as sess:\n",
    "    # Initializing the variables\n",
    "    sess.run(tf.global_variables_initializer())\n",
    "    \n",
    "    # Training cycle\n",
    "    for epoch in range(epochs):\n",
    "        # Loop over all batches\n",
    "        n_batches = 5\n",
    "        for batch_i in range(1, n_batches + 1):\n",
    "            for batch_features, batch_labels in load_preprocess_training_batch(batch_i, batch_size):\n",
    "                train_neural_network(sess, optimizer, keep_probability, batch_features, batch_labels)\n",
    "            print('Epoch {:>2}, CIFAR-10 Batch {}:  '.format(epoch + 1, batch_i), end='')\n",
    "            print_stats(sess, batch_features, batch_labels, cost, accuracy)\n",
    "            \n",
    "    # Save Model\n",
    "    saver = tf.train.Saver()\n",
    "    save_path = saver.save(sess, save_model_path)"
   ]
  },
  {
   "cell_type": "markdown",
   "metadata": {},
   "source": [
    "## Test Model\n"
   ]
  },
  {
   "cell_type": "code",
   "execution_count": 20,
   "metadata": {},
   "outputs": [
    {
     "name": "stdout",
     "output_type": "stream",
     "text": [
      "INFO:tensorflow:Restoring parameters from ./image_classification\n",
      "Testing Accuracy: 0.67255859375\n",
      "\n"
     ]
    },
    {
     "data": {
      "image/png": "[encoded data removed]",
      "text/plain": [
       "<matplotlib.figure.Figure at 0x7f627028dd30>"
      ]
     },
     "metadata": {
      "image/png": {
       "height": 319,
       "width": 355
      }
     },
     "output_type": "display_data"
    }
   ],
   "source": [
    "%matplotlib inline\n",
    "%config InlineBackend.figure_format = 'retina'\n",
    "\n",
    "import tensorflow as tf\n",
    "import pickle\n",
    "import random\n",
    "\n",
    "# Set batch size if not already set\n",
    "try:\n",
    "    if batch_size:\n",
    "        pass\n",
    "except NameError:\n",
    "    batch_size = 64\n",
    "\n",
    "save_model_path = './image_classification'\n",
    "n_samples = 4\n",
    "top_n_predictions = 5\n",
    "\n",
    "def test_model():\n",
    "    \"\"\"\n",
    "    Test the saved model against the test dataset\n",
    "    \"\"\"\n",
    "\n",
    "    test_features, test_labels = pickle.load(open('preprocess_testing.p', mode='rb'))\n",
    "    loaded_graph = tf.Graph()\n",
    "\n",
    "    with tf.Session(graph=loaded_graph) as sess:\n",
    "        # Load model\n",
    "        loader = tf.train.import_meta_graph(save_model_path + '.meta')\n",
    "        loader.restore(sess, save_model_path)\n",
    "\n",
    "        # Get Tensors from loaded model\n",
    "        loaded_x = loaded_graph.get_tensor_by_name('x:0')\n",
    "        loaded_y = loaded_graph.get_tensor_by_name('y:0')\n",
    "        loaded_keep_prob = loaded_graph.get_tensor_by_name('keep_prob:0')\n",
    "        loaded_logits = loaded_graph.get_tensor_by_name('logits:0')\n",
    "        loaded_acc = loaded_graph.get_tensor_by_name('accuracy:0')\n",
    "        \n",
    "        # Get accuracy in batches for memory limitations\n",
    "        test_batch_acc_total = 0\n",
    "        test_batch_count = 0\n",
    "        \n",
    "        for train_feature_batch, train_label_batch in batch_features_labels(test_features, test_labels, batch_size):\n",
    "            test_batch_acc_total += sess.run(\n",
    "                loaded_acc,\n",
    "                feed_dict={loaded_x: train_feature_batch, loaded_y: train_label_batch, loaded_keep_prob: 1.0})\n",
    "            test_batch_count += 1\n",
    "\n",
    "        print('Testing Accuracy: {}\\n'.format(test_batch_acc_total/test_batch_count))\n",
    "\n",
    "        # Print Random Samples\n",
    "        random_test_features, random_test_labels = tuple(zip(*random.sample(list(zip(test_features, test_labels)), n_samples)))\n",
    "        random_test_predictions = sess.run(\n",
    "            tf.nn.top_k(tf.nn.softmax(loaded_logits), top_n_predictions),\n",
    "            feed_dict={loaded_x: random_test_features, loaded_y: random_test_labels, loaded_keep_prob: 1.0})\n",
    "        display_image_predictions(random_test_features, random_test_labels, random_test_predictions)\n",
    "\n",
    "\n",
    "test_model()"
   ]
  }
 ],
 "metadata": {
  "kernelspec": {
   "display_name": "Python 3",
   "language": "python",
   "name": "python3"
  },
  "language_info": {
   "codemirror_mode": {
    "name": "ipython",
    "version": 3
   },
   "file_extension": ".py",
   "mimetype": "text/x-python",
   "name": "python",
   "nbconvert_exporter": "python",
   "pygments_lexer": "ipython3",
   "version": "3.6.3"
  },
  "toc": {
   "base_numbering": 1,
   "nav_menu": {},
   "number_sections": true,
   "sideBar": true,
   "skip_h1_title": false,
   "title_cell": "Table of Contents",
   "title_sidebar": "Contents",
   "toc_cell": false,
   "toc_position": {},
   "toc_section_display": true,
   "toc_window_display": false
  },
  "varInspector": {
   "cols": {
    "lenName": 16,
    "lenType": 16,
    "lenVar": 40
   },
   "kernels_config": {
    "python": {
     "delete_cmd_postfix": "",
     "delete_cmd_prefix": "del ",
     "library": "var_list.py",
     "varRefreshCmd": "print(var_dic_list())"
    },
    "r": {
     "delete_cmd_postfix": ") ",
     "delete_cmd_prefix": "rm(",
     "library": "var_list.r",
     "varRefreshCmd": "cat(var_dic_list()) "
    }
   },
   "types_to_exclude": [
    "module",
    "function",
    "builtin_function_or_method",
    "instance",
    "_Feature"
   ],
   "window_display": false
  },
  "widgets": {
   "state": {},
   "version": "1.1.2"
  }
 },
 "nbformat": 4,
 "nbformat_minor": 1
}
